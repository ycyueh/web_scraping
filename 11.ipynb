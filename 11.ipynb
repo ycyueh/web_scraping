{
 "cells": [
  {
   "cell_type": "code",
   "execution_count": 21,
   "id": "f7e8a5e8-e2b8-4662-90b9-e13ac59c06b3",
   "metadata": {},
   "outputs": [
    {
     "name": "stderr",
     "output_type": "stream",
     "text": [
      "The chromedriver version (121.0.6167.184) detected in PATH at C:\\Users\\USER\\python_web_scraping-master\\chromedriver.exe might not be compatible with the detected chrome version (122.0.6261.57); currently, chromedriver 122.0.6261.69 is recommended for chrome 122.*, so it is advised to delete the driver in PATH and retry\n"
     ]
    }
   ],
   "source": [
    "'''\n",
    "匯入套件\n",
    "'''\n",
    "# 操作 browser 的 API\n",
    "from selenium.webdriver.chrome.service import Service ##設定chrome driver\n",
    "from selenium import webdriver  ##協助選擇要哪種瀏覽器\n",
    "\n",
    "# 處理逾時例外的工具\n",
    "from selenium.common.exceptions import TimeoutException\n",
    "\n",
    "# 面對動態網頁，等待某個元素出現的工具，通常與 exptected_conditions 搭配\n",
    "from selenium.webdriver.support.ui import WebDriverWait\n",
    "\n",
    "# 搭配 WebDriverWait 使用，對元素狀態的一種期待條件，若條件發生，則等待結束，往下一行執行\n",
    "from selenium.webdriver.support import expected_conditions as EC\n",
    "\n",
    "# 期待元素出現要透過什麼方式指定，通常與 EC、WebDriverWait 一起使用\n",
    "from selenium.webdriver.common.by import By\n",
    "\n",
    "# 強制等待 (執行期間休息一下)\n",
    "from time import sleep\n",
    "\n",
    "'''\n",
    "selenium 啓動 Chrome 的進階配置參數\n",
    "參考網址：https://stackoverflow.max-everyday.com/2019/12/selenium-chrome-options/\n",
    "'''\n",
    "# 啟動瀏覽器工具的選項\n",
    "my_options = webdriver.ChromeOptions()   #chrome設定用\n",
    "# my_options.add_argument(\"--headless\")                #不開啟實體瀏覽器背景執行\n",
    "my_options.add_argument(\"--start-maximized\")         #最大化視窗\n",
    "my_options.add_argument(\"--incognito\")               #開啟無痕模式\n",
    "my_options.add_argument(\"--disable-popup-blocking\") #禁用彈出攔截\n",
    "my_options.add_argument(\"--disable-notifications\")  #取消 chrome 推播通知\n",
    "my_options.add_argument(\"--lang=zh-TW\")  #設定為正體中文\n",
    "\n",
    "\n",
    "# 使用 Chrome 的 WebDriver\n",
    "# my_service = Service(executable_path=\"./chromedriver.exe\"):若已經有chrome，可不用\n",
    "driver = webdriver.Chrome(  #開啟瀏覽器\n",
    "    options = my_options\n",
    ")\n",
    "\n",
    "\n"
   ]
  },
  {
   "cell_type": "code",
   "execution_count": 8,
   "id": "7516d830-6f06-4811-898d-411f949c6132",
   "metadata": {},
   "outputs": [],
   "source": [
    "#開啟網頁\n",
    "driver.get(\"http://crptransfer.moe.gov.tw/\")\n",
    "\n",
    "# 跳出 alert 視窗 (在 chrome 裡面執行 javascript 語法)\n",
    "driver.execute_script(\n",
    "    'window.alert(\"這是自訂彈跳視窗\")'\n",
    ")\n",
    "\n",
    "#等待\n",
    "sleep(3)\n",
    "\n",
    "#點選確認鍵\n",
    "driver.switch_to.alert.accept()"
   ]
  },
  {
   "cell_type": "markdown",
   "id": "61452f3d-bba5-4305-9aff-a073bd562c75",
   "metadata": {},
   "source": [
    "# 輸入文字，送出表單"
   ]
  },
  {
   "cell_type": "code",
   "execution_count": 15,
   "id": "ca48d282-0cfb-45b3-9bea-3d7c3b5eeb17",
   "metadata": {},
   "outputs": [
    {
     "name": "stdout",
     "output_type": "stream",
     "text": [
      "ㄩㄝˋㄧˊㄔㄣˊ\n",
      "ㄩㄝˋㄧˊㄔㄣˊ\n"
     ]
    }
   ],
   "source": [
    "# 開啟網頁\n",
    "driver.get(\"http://crptransfer.moe.gov.tw/\")\n",
    "\n",
    "# 尋找網頁中的搜尋框\n",
    "inputelement = driver.find_element(\n",
    "    By.CSS_SELECTOR,#以此為主\n",
    "    #By.ID = 'SN' \n",
    "    'input#SN'   ## or 'input[name=SN]' : 屬性寫法\n",
    ")\n",
    "# 在搜尋框中輸入文字\n",
    "inputelement.send_keys('樂沂晨')\n",
    "\n",
    "sleep(2)\n",
    "\n",
    "#送出搜尋\n",
    "inputelement.submit()\n",
    "\n",
    "#搜尋結果的CSS selector\n",
    "#右鍵:copy>copy selector(不建議)\n",
    "cssSeletor = 'body > table > tbody > tr:nth-child(1) > td > main > article > div > table > tbody > tr:nth-child(2) > td'\n",
    "\n",
    "try:\n",
    "    #等待網頁搜尋結果\n",
    "    WebDriverWait(driver,10).until(#等10秒\n",
    "        EC.presence_of_element_located(#有存在於網頁的元素，不一定可見\n",
    "            (By.CSS_SELECTOR,cssSeletor)#tuple 形式\n",
    "        )\n",
    "    )\n",
    "    #取得搜尋結果\n",
    "    element = driver.find_element(\n",
    "        By.CSS_SELECTOR,\n",
    "        cssSeletor\n",
    "    )\n",
    "    #輸出想要爬取的文字\n",
    "    print(element.text) #子孫的內文全都要\n",
    "    print(element.get_attribute('innerText')) #selenium取得屬性寫法 \n",
    "except TimeoutException:\n",
    "    print('等待逾時')"
   ]
  },
  {
   "cell_type": "code",
   "execution_count": 22,
   "id": "ec7eb67b-501e-4b44-a322-d976a6b31892",
   "metadata": {},
   "outputs": [],
   "source": [
    "# 開啟網頁\n",
    "driver.get(\"https://www.104.com.tw/jobs/main/\")\n",
    "\n",
    "#尋找網頁中的搜尋框\n",
    "inputElement = driver.find_element(\n",
    "    By.CSS_SELECTOR,\n",
    "    'input[data-gtm-index = \"搜尋欄位-搜尋點擊\"]'  ##只有[data-gtm-index]:有無data-gtm-index屬性\n",
    ")\n",
    "\n",
    "#輸入搜尋文字\n",
    "inputElement.send_keys('python')\n",
    "\n",
    "sleep(3)\n",
    "\n",
    "#按鈕選擇器\n",
    "cssSelectorBtn = 'button[data-gtm-index=\"搜尋欄位-搜尋點擊\"][type=\"submit\"]'\n",
    "\n",
    "try:\n",
    "    WebDriverWait(driver,10).until(\n",
    "        EC.presence_of_element_located(\n",
    "            (By.CSS_SELECTOR,cssSelectorBtn)\n",
    "        )\n",
    "    )\n",
    "\n",
    "    #取得按鈕元素\n",
    "    btn = driver.find_element(\n",
    "        By.CSS_SELECTOR,\n",
    "        cssSelectorBtn\n",
    "    )\n",
    "    #按下按鈕\n",
    "    btn.click()\n",
    "    #\n",
    "    sleep(3)\n",
    "except TimeoutException:\n",
    "    print('等待逾時')"
   ]
  },
  {
   "cell_type": "code",
   "execution_count": 23,
   "id": "49b370fb-8bbc-458b-9df8-117f189799dc",
   "metadata": {},
   "outputs": [],
   "source": [
    "#刷新頁面\n",
    "driver.refresh()"
   ]
  },
  {
   "cell_type": "markdown",
   "id": "536111e2-aac5-4a2d-b564-f1f1a99365bc",
   "metadata": {},
   "source": [
    "# 關閉瀏覽器"
   ]
  },
  {
   "cell_type": "code",
   "execution_count": 24,
   "id": "2d62998c-2b47-4517-9a3a-f173df6b2986",
   "metadata": {},
   "outputs": [],
   "source": [
    "driver.quit()"
   ]
  }
 ],
 "metadata": {
  "kernelspec": {
   "display_name": "Python3@ws",
   "language": "python",
   "name": "ws"
  },
  "language_info": {
   "codemirror_mode": {
    "name": "ipython",
    "version": 3
   },
   "file_extension": ".py",
   "mimetype": "text/x-python",
   "name": "python",
   "nbconvert_exporter": "python",
   "pygments_lexer": "ipython3",
   "version": "3.10.13"
  }
 },
 "nbformat": 4,
 "nbformat_minor": 5
}
