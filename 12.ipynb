{
 "cells": [
  {
   "cell_type": "code",
   "execution_count": 1,
   "id": "7ddb60cd-a0b5-41ec-96eb-10398faeff25",
   "metadata": {},
   "outputs": [],
   "source": [
    "'''\n",
    "參考網址:\n",
    "[1] Webdriver Manager for Python\n",
    "https://pypi.org/project/webdriver-manager/\n",
    "'''\n",
    "\n",
    "# 匯入套件\n",
    "from selenium import webdriver\n",
    "from selenium.webdriver.chrome.service import Service\n",
    "from webdriver_manager.chrome import ChromeDriverManager\n",
    "from selenium.common.exceptions import TimeoutException, NoSuchElementException\n",
    "from selenium.webdriver.support.ui import WebDriverWait\n",
    "from selenium.webdriver.support import expected_conditions as EC\n",
    "from selenium.webdriver.common.by import By\n",
    "from time import sleep"
   ]
  },
  {
   "cell_type": "markdown",
   "id": "ed96c3fe-031a-43ff-80c6-a43e92650b13",
   "metadata": {},
   "source": [
    "# 強制等待"
   ]
  },
  {
   "cell_type": "code",
   "execution_count": 2,
   "id": "545a6793-e094-4cf4-9d61-7380304ae78f",
   "metadata": {},
   "outputs": [
    {
     "name": "stdout",
     "output_type": "stream",
     "text": [
      "https://tw.yahoo.com/\n"
     ]
    }
   ],
   "source": [
    "'''\n",
    "強制等待\n",
    "'''\n",
    "# 開啟用於自動控制的瀏覽器 (自動取得 Chrome 的 WebDriver)\n",
    "driver = webdriver.Chrome(\n",
    "    service = Service(ChromeDriverManager().install())\n",
    ")\n",
    "\n",
    "try:\n",
    "    #走訪網址\n",
    "    \n",
    "    driver.get('https://tw.yahoo.com/')\n",
    "\n",
    "    #\n",
    "    sleep(3)\n",
    "    #印出網址\n",
    "    print(driver.current_url)\n",
    "except:\n",
    "    print('程式出錯')\n",
    "finally:\n",
    "    #關閉瀏覽器\n",
    "    driver.quit()\n",
    "\n"
   ]
  },
  {
   "cell_type": "markdown",
   "id": "31ff6c86-8cca-42ad-b4b2-4c7225234981",
   "metadata": {},
   "source": [
    "# 隱性等待¶"
   ]
  },
  {
   "cell_type": "code",
   "execution_count": 3,
   "id": "d23687e0-5172-489d-8a34-32490745b3db",
   "metadata": {},
   "outputs": [
    {
     "name": "stderr",
     "output_type": "stream",
     "text": [
      "The chromedriver version (121.0.6167.184) detected in PATH at C:\\Users\\USER\\python_web_scraping-master\\chromedriver.exe might not be compatible with the detected chrome version (122.0.6261.57); currently, chromedriver 122.0.6261.69 is recommended for chrome 122.*, so it is advised to delete the driver in PATH and retry\n"
     ]
    },
    {
     "name": "stdout",
     "output_type": "stream",
     "text": [
      "https://tw.yahoo.com/\n"
     ]
    }
   ],
   "source": [
    "'''\n",
    "隱性等待\n",
    "'''\n",
    "# 開啟用於自動控制的瀏覽器\n",
    "driver = webdriver.Chrome()\n",
    "\n",
    "try:\n",
    "    # 最多等 5 秒\n",
    "    driver.implicitly_wait(5)\n",
    "    \n",
    "    # 走訪網址\n",
    "    driver.get('https://tw.yahoo.com/')\n",
    "    \n",
    "    # 取得元素\n",
    "    element = driver.find_element(\n",
    "        By.CSS_SELECTOR,\n",
    "        'a#header-logo'    \n",
    "    )\n",
    "    \n",
    "    #印出超連結\n",
    "    print(element.get_attribute('href'))\n",
    "\n",
    "\n",
    "\n",
    "except NoSuchElementException:\n",
    "    print('找不到元素')\n",
    "finally:\n",
    "    driver.quit()\n"
   ]
  },
  {
   "cell_type": "markdown",
   "id": "41d04ae5-0ec6-47c2-8650-a0b338a387bd",
   "metadata": {},
   "source": [
    "# 顯性等待"
   ]
  },
  {
   "cell_type": "code",
   "execution_count": 16,
   "id": "d3e5be89-2d38-4a50-8ba8-df31a21d415d",
   "metadata": {},
   "outputs": [
    {
     "name": "stderr",
     "output_type": "stream",
     "text": [
      "The chromedriver version (121.0.6167.184) detected in PATH at C:\\Users\\USER\\python_web_scraping-master\\chromedriver.exe might not be compatible with the detected chrome version (122.0.6261.57); currently, chromedriver 122.0.6261.69 is recommended for chrome 122.*, so it is advised to delete the driver in PATH and retry\n"
     ]
    },
    {
     "name": "stdout",
     "output_type": "stream",
     "text": [
      "https://www.youtube.com/\n"
     ]
    }
   ],
   "source": [
    "'''\n",
    "顯性等待\n",
    "'''\n",
    "# 開啟用於自動控制的瀏覽器\n",
    "driver = webdriver.Chrome()\n",
    "\n",
    "try:\n",
    "    #\n",
    "    driver.get('https://www.youtube.com/?gl=TW')\n",
    "    WebDriverWait(driver,10).until(\n",
    "        EC.presence_of_element_located(\n",
    "        (By.LINK_TEXT,\n",
    "        '首頁')\n",
    "    ))\n",
    "\n",
    "    print(driver.find_element(By.LINK_TEXT,'首頁').get_attribute('href'))\n",
    "except TimeoutException:\n",
    "    print('等待逾時')\n",
    "\n",
    "finally:\n",
    "    driver.quit()\n",
    "\n"
   ]
  },
  {
   "cell_type": "code",
   "execution_count": 12,
   "id": "0f6d64ff-661d-4c8e-bbac-f35c844eaacd",
   "metadata": {},
   "outputs": [
    {
     "name": "stderr",
     "output_type": "stream",
     "text": [
      "The chromedriver version (121.0.6167.184) detected in PATH at C:\\Users\\USER\\python_web_scraping-master\\chromedriver.exe might not be compatible with the detected chrome version (122.0.6261.57); currently, chromedriver 122.0.6261.69 is recommended for chrome 122.*, so it is advised to delete the driver in PATH and retry\n"
     ]
    },
    {
     "name": "stdout",
     "output_type": "stream",
     "text": [
      "https://www.youtube.com/\n"
     ]
    }
   ],
   "source": [
    "'''\n",
    "顯性等待\n",
    "'''\n",
    "# 開啟用於自動控制的瀏覽器\n",
    "driver = webdriver.Chrome()\n",
    "\n",
    "try:\n",
    "    # 走訪網址\n",
    "    driver.get('https://www.youtube.com/?gl=TW')\n",
    "\n",
    "    # 滿足條件（10秒內找到元素），則往下一步\n",
    "    WebDriverWait(driver, 10).until(\n",
    "        EC.presence_of_element_located( \n",
    "            (By.LINK_TEXT, '首頁') \n",
    "        )\n",
    "    )\n",
    "    \n",
    "    # 印出首頁連結\n",
    "    print(driver.find_element(By.LINK_TEXT, '首頁').get_attribute('href'))\n",
    "    \n",
    "except TimeoutException:\n",
    "    print('等待逾時！')\n",
    "finally:\n",
    "    # 關閉瀏覽器\n",
    "    driver.quit()"
   ]
  },
  {
   "cell_type": "code",
   "execution_count": null,
   "id": "7eff0dab-88f7-4e22-9fac-bd7c6d864830",
   "metadata": {},
   "outputs": [],
   "source": []
  }
 ],
 "metadata": {
  "kernelspec": {
   "display_name": "Python3@ws",
   "language": "python",
   "name": "ws"
  },
  "language_info": {
   "codemirror_mode": {
    "name": "ipython",
    "version": 3
   },
   "file_extension": ".py",
   "mimetype": "text/x-python",
   "name": "python",
   "nbconvert_exporter": "python",
   "pygments_lexer": "ipython3",
   "version": "3.10.13"
  }
 },
 "nbformat": 4,
 "nbformat_minor": 5
}
