{
 "cells": [
  {
   "cell_type": "code",
   "execution_count": null,
   "id": "a2b1db2e-5ff6-4081-b413-b5805a55f5a7",
   "metadata": {},
   "outputs": [],
   "source": []
  },
  {
   "cell_type": "code",
   "execution_count": 1,
   "id": "4d61a400-4b17-43bc-976c-d1c7169deb7a",
   "metadata": {},
   "outputs": [],
   "source": [
    "'''\n",
    "匯入工具\n",
    "'''\n",
    "import pyautogui\n",
    "from time import sleep, time\n",
    "import keyboard\n",
    "from IPython.display import clear_output"
   ]
  },
  {
   "cell_type": "code",
   "execution_count": 4,
   "id": "db0bc662-ce30-4c5d-bf98-dae406b40bc5",
   "metadata": {},
   "outputs": [
    {
     "name": "stdout",
     "output_type": "stream",
     "text": [
      "x=1149,y=234\n"
     ]
    },
    {
     "ename": "KeyboardInterrupt",
     "evalue": "",
     "output_type": "error",
     "traceback": [
      "\u001b[1;31m---------------------------------------------------------------------------\u001b[0m",
      "\u001b[1;31mKeyboardInterrupt\u001b[0m                         Traceback (most recent call last)",
      "Cell \u001b[1;32mIn[4], line 6\u001b[0m\n\u001b[0;32m      4\u001b[0m \u001b[38;5;28mprint\u001b[39m(\u001b[38;5;124mf\u001b[39m\u001b[38;5;124m'\u001b[39m\u001b[38;5;124mx=\u001b[39m\u001b[38;5;132;01m{\u001b[39;00mx\u001b[38;5;132;01m}\u001b[39;00m\u001b[38;5;124m,y=\u001b[39m\u001b[38;5;132;01m{\u001b[39;00my\u001b[38;5;132;01m}\u001b[39;00m\u001b[38;5;124m'\u001b[39m)\n\u001b[0;32m      5\u001b[0m \u001b[38;5;66;03m# 睡一下，以免吃光記憶體\u001b[39;00m\n\u001b[1;32m----> 6\u001b[0m \u001b[43msleep\u001b[49m\u001b[43m(\u001b[49m\u001b[38;5;241;43m0.01\u001b[39;49m\u001b[43m)\u001b[49m\n",
      "\u001b[1;31mKeyboardInterrupt\u001b[0m: "
     ]
    }
   ],
   "source": [
    "while True:\n",
    "    #自動清除此格的文字輸出\n",
    "    ##較為SMOOTH\n",
    "    clear_output(True)\n",
    "    \n",
    "    x,y = pyautogui.position()\n",
    "    print(f'x={x},y={y}')\n",
    "    # 睡一下，以免吃光記憶體\n",
    "    sleep(0.01)"
   ]
  },
  {
   "cell_type": "code",
   "execution_count": 5,
   "id": "d9612c33-53cd-46ce-9f1b-18db7e3f23e3",
   "metadata": {},
   "outputs": [],
   "source": [
    "'''\n",
    "記錄滑鼠軌跡\n",
    "'''\n",
    "\n",
    "# 記錄軌跡用的變數\n",
    "listMove = []\n",
    "\n",
    "\n",
    "# 記錄軌跡\n",
    "def record():\n",
    "    while True:\n",
    "        if keyboard.is_pressed('ctrl'):\n",
    "            x,y = pyautogui.position()\n",
    "            listMove.append(f'{x},{y}')\n",
    "            sleep(0.01)\n",
    "\n",
    "        elif keyboard.is_pressed('alt'):\n",
    "            break\n",
    "\n",
    "    # 寫入檔案   \n",
    "    with open ('move.txt','w',encoding='utf-8') as file:\n",
    "        file.write('\\n'.join(listMove))\n",
    "\n",
    "if __name__ == \"__main__\":\n",
    "    record()"
   ]
  },
  {
   "cell_type": "code",
   "execution_count": null,
   "id": "7eb780d1-9a44-4659-972f-ce855d96da3b",
   "metadata": {},
   "outputs": [],
   "source": []
  }
 ],
 "metadata": {
  "kernelspec": {
   "display_name": "Python3@ws",
   "language": "python",
   "name": "ws"
  },
  "language_info": {
   "codemirror_mode": {
    "name": "ipython",
    "version": 3
   },
   "file_extension": ".py",
   "mimetype": "text/x-python",
   "name": "python",
   "nbconvert_exporter": "python",
   "pygments_lexer": "ipython3",
   "version": "3.10.13"
  }
 },
 "nbformat": 4,
 "nbformat_minor": 5
}
