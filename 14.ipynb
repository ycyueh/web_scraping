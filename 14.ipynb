{
 "cells": [
  {
   "cell_type": "code",
   "execution_count": null,
   "id": "a2b1db2e-5ff6-4081-b413-b5805a55f5a7",
   "metadata": {},
   "outputs": [],
   "source": []
  },
  {
   "cell_type": "code",
   "execution_count": 1,
   "id": "4d61a400-4b17-43bc-976c-d1c7169deb7a",
   "metadata": {},
   "outputs": [],
   "source": [
    "'''\n",
    "匯入工具\n",
    "'''\n",
    "import pyautogui\n",
    "from time import sleep, time\n",
    "import keyboard\n",
    "from IPython.display import clear_output"
   ]
  },
  {
   "cell_type": "code",
   "execution_count": 4,
   "id": "db0bc662-ce30-4c5d-bf98-dae406b40bc5",
   "metadata": {},
   "outputs": [
    {
     "name": "stdout",
     "output_type": "stream",
     "text": [
      "x=1149,y=234\n"
     ]
    },
    {
     "ename": "KeyboardInterrupt",
     "evalue": "",
     "output_type": "error",
     "traceback": [
      "\u001b[1;31m---------------------------------------------------------------------------\u001b[0m",
      "\u001b[1;31mKeyboardInterrupt\u001b[0m                         Traceback (most recent call last)",
      "Cell \u001b[1;32mIn[4], line 6\u001b[0m\n\u001b[0;32m      4\u001b[0m \u001b[38;5;28mprint\u001b[39m(\u001b[38;5;124mf\u001b[39m\u001b[38;5;124m'\u001b[39m\u001b[38;5;124mx=\u001b[39m\u001b[38;5;132;01m{\u001b[39;00mx\u001b[38;5;132;01m}\u001b[39;00m\u001b[38;5;124m,y=\u001b[39m\u001b[38;5;132;01m{\u001b[39;00my\u001b[38;5;132;01m}\u001b[39;00m\u001b[38;5;124m'\u001b[39m)\n\u001b[0;32m      5\u001b[0m \u001b[38;5;66;03m# 睡一下，以免吃光記憶體\u001b[39;00m\n\u001b[1;32m----> 6\u001b[0m \u001b[43msleep\u001b[49m\u001b[43m(\u001b[49m\u001b[38;5;241;43m0.01\u001b[39;49m\u001b[43m)\u001b[49m\n",
      "\u001b[1;31mKeyboardInterrupt\u001b[0m: "
     ]
    }
   ],
   "source": [
    "while True:\n",
    "    #自動清除此格的文字輸出\n",
    "    ##較為SMOOTH\n",
    "    clear_output(True)\n",
    "    \n",
    "    x,y = pyautogui.position()\n",
    "    print(f'x={x},y={y}')\n",
    "    # 睡一下，以免吃光記憶體\n",
    "    sleep(0.01)"
   ]
  },
  {
   "cell_type": "code",
   "execution_count": 5,
   "id": "d9612c33-53cd-46ce-9f1b-18db7e3f23e3",
   "metadata": {},
   "outputs": [],
   "source": [
    "'''\n",
    "記錄滑鼠軌跡\n",
    "'''\n",
    "\n",
    "# 記錄軌跡用的變數\n",
    "listMove = []\n",
    "\n",
    "\n",
    "# 記錄軌跡\n",
    "def record():\n",
    "    while True:\n",
    "        if keyboard.is_pressed('ctrl'):\n",
    "            x,y = pyautogui.position()\n",
    "            listMove.append(f'{x},{y}')\n",
    "            sleep(0.01)\n",
    "\n",
    "        elif keyboard.is_pressed('alt'):\n",
    "            break\n",
    "\n",
    "    # 寫入檔案   \n",
    "    with open ('move.txt','w',encoding='utf-8') as file:\n",
    "        file.write('\\n'.join(listMove))\n",
    "\n",
    "if __name__ == \"__main__\":\n",
    "    record()"
   ]
  },
  {
   "cell_type": "code",
   "execution_count": 2,
   "id": "7eb780d1-9a44-4659-972f-ce855d96da3b",
   "metadata": {},
   "outputs": [],
   "source": [
    "\n",
    "'''\n",
    "讀取滑鼠軌跡，並模擬滑鼠遊標移動\n",
    "'''\n",
    "\n",
    "# 模擬移動\n",
    "def move():\n",
    "    with open ('move.txt','r',encoding='utf-8') as file:\n",
    "        # 逐行讀取\n",
    "        for line in file:\n",
    "            # 切割文字，找出 x,y\n",
    "            x,y = line.strip().split(',')\n",
    "            # 移動 (設定移動時間)\n",
    "            pyautogui.moveTo(int(x),int(y),duration=0.005)\n",
    "            # 提前結束\n",
    "            if keyboard.is_pressed('alt'):\n",
    "                break\n",
    "\n",
    "\n",
    "if __name__ == \"__main__\":\n",
    "    move()"
   ]
  },
  {
   "cell_type": "code",
   "execution_count": null,
   "id": "735fb192-ea48-47be-a38e-df28afb18f76",
   "metadata": {},
   "outputs": [
    {
     "name": "stdout",
     "output_type": "stream",
     "text": [
      "None\n"
     ]
    }
   ],
   "source": [
    "\n",
    "'''\n",
    "每秒判斷桌面上的圖片(座標)是否存在\n",
    "補充: 請先開小算盤(計算機)\n",
    "'''\n",
    "\n",
    "while True:\n",
    "    #\n",
    "    sleep(0.01)\n",
    "    #自動清除此格的文字輸出\n",
    "    clear_output(wait =  True)\n",
    "    try:\n",
    "         # 取得 Box 物件\n",
    "        btn = pyautogui.locateOnScreen('images/2.png',confidence = 0.9)\n",
    "         # 輸出\n",
    "        print(btn)\n",
    "        \n",
    "        if keyboard.is_pressed('alt'):\n",
    "            break\n",
    "    except:\n",
    "        print(None)"
   ]
  },
  {
   "cell_type": "code",
   "execution_count": 6,
   "id": "62a1c49e-9d57-48ea-abbe-8752f90126c7",
   "metadata": {},
   "outputs": [
    {
     "name": "stdout",
     "output_type": "stream",
     "text": [
      "None\n"
     ]
    }
   ],
   "source": [
    "# 仿 太鼓達人 打擊遊戲網站 已經下架，所以無法使用此案例\n",
    "'''\n",
    "自動使用計算機\n",
    "(需顯示於桌面上)\n",
    "'''\n",
    "# 設定每一個動作，都暫停若干秒\n",
    "pyautogui.PAUSE = 0.5\n",
    "\n",
    "try:\n",
    "    #比照所有圖片，取得顯示在桌面的圖片物件\n",
    "    btn0 = pyautogui.locateOnScreen('images/0.png',confidence = 0.9)\n",
    "    btn1 = pyautogui.locateOnScreen('images/1.png',confidence = 0.9)\n",
    "    btn2 = pyautogui.locateOnScreen('images/2.png',confidence = 0.9)\n",
    "    btn3 = pyautogui.locateOnScreen('images/3.png',confidence = 0.9)\n",
    "    btn4 = pyautogui.locateOnScreen('images/4.png',confidence = 0.9)\n",
    "    btn5 = pyautogui.locateOnScreen('images/5.png',confidence = 0.9)\n",
    "    \n",
    "    #取得圖片中心點\n",
    "    btn0_center = pyautogui.center(btn0)\n",
    "    btn1_center = pyautogui.center(btn1)\n",
    "    btn2_center = pyautogui.center(btn2)\n",
    "    btn3_center = pyautogui.center(btn3)\n",
    "    btn4_center = pyautogui.center(btn4)\n",
    "    btn5_center = pyautogui.center(btn5)\n",
    "    \n",
    "    #按下5201314\n",
    "    pyautogui.click(btn5_center.x,btn5_center.y)\n",
    "    pyautogui.click(btn2_center.x,btn2_center.y)\n",
    "    pyautogui.click(btn0_center.x,btn0_center.y)\n",
    "    pyautogui.click(btn1_center.x,btn1_center.y)\n",
    "    pyautogui.click(btn3_center.x,btn3_center.y)\n",
    "    pyautogui.click(btn1_center.x,btn1_center.y)\n",
    "    pyautogui.click(btn4_center.x,btn4_center.y)\n",
    "except:\n",
    "    print(None)"
   ]
  },
  {
   "cell_type": "code",
   "execution_count": null,
   "id": "09814355-342d-4fbb-86dd-dcf007e08509",
   "metadata": {},
   "outputs": [],
   "source": []
  }
 ],
 "metadata": {
  "kernelspec": {
   "display_name": "Python3@ws",
   "language": "python",
   "name": "ws"
  },
  "language_info": {
   "codemirror_mode": {
    "name": "ipython",
    "version": 3
   },
   "file_extension": ".py",
   "mimetype": "text/x-python",
   "name": "python",
   "nbconvert_exporter": "python",
   "pygments_lexer": "ipython3",
   "version": "3.10.13"
  }
 },
 "nbformat": 4,
 "nbformat_minor": 5
}
