{
 "cells": [
  {
   "cell_type": "code",
   "execution_count": 1,
   "id": "e40f658d-c3ec-45b0-9ed2-ed5f7b043f3e",
   "metadata": {},
   "outputs": [],
   "source": [
    "## 匯入 regex 套件\n",
    "import re"
   ]
  },
  {
   "cell_type": "code",
   "execution_count": 5,
   "id": "c05c6053-4ef7-4c15-ba31-ae6e2321e2c6",
   "metadata": {},
   "outputs": [
    {
     "name": "stdout",
     "output_type": "stream",
     "text": [
      "<re.Match object; span=(0, 10), match='A123456789'>\n",
      "A123456789\n",
      "1\n",
      "A123456789\n",
      "1\n"
     ]
    }
   ],
   "source": [
    "#search\n",
    "'''\n",
    "說明\n",
    "re.search 會將整個字串進行搜尋，\n",
    "但只會比對到第一組，\n",
    "match[0]是regex所代表的整個完整比對的字串，\n",
    "match[1]是第一組()中的內容，\n",
    "match[2]是第二組()中的內容...\n",
    "'''\n",
    "\n",
    "regex = r\"[a-zA-Z]([12])\\d{8}\"\n",
    "string01 = \"A123456789, S299888777\"\n",
    "match01 = re.search(regex,string01)\n",
    "print(match01)\n",
    "print(match01[0])#完整配對的整個字串\n",
    "print(match01[1])#第一個組別([12])\n",
    "'''\n",
    "補充:\n",
    "match.group() 或 match.group(0) 是regex所代表的整個完整比對的字串，\n",
    "match.group(1)是第一組()中的內容，\n",
    "match.group(2)是第二組()中的內容...\n",
    "'''\n",
    "print(match01.group(0))\n",
    "print(match01.group(1))"
   ]
  },
  {
   "cell_type": "code",
   "execution_count": 7,
   "id": "d2501048-6783-4dc9-a712-5b75587076f0",
   "metadata": {},
   "outputs": [
    {
     "name": "stdout",
     "output_type": "stream",
     "text": [
      "['0911111111', '0922222222', '0933333333']\n",
      "0911111111\n",
      "0933333333\n"
     ]
    }
   ],
   "source": [
    "# findall：即global\n",
    "'''\n",
    "說明\n",
    "re.findall 會將所有配對到的字串\n",
    "回傳成一個 list\n",
    "'''\n",
    "regex02 = r'[0-9]+'\n",
    "string02 = \"0911111111, 0922222222, 0933333333\"\n",
    "listMatch02 = re.findall(regex02,string02)\n",
    "\n",
    "print(listMatch02)\n",
    "print(listMatch02[0])\n",
    "print(listMatch02[2])"
   ]
  },
  {
   "cell_type": "code",
   "execution_count": 8,
   "id": "1c20f99f-8230-40fa-9bbf-1b1c3c2e462b",
   "metadata": {},
   "outputs": [
    {
     "name": "stdout",
     "output_type": "stream",
     "text": [
      "0911111111\n",
      "0922222222\n",
      "0933333333\n"
     ]
    }
   ],
   "source": [
    "# finditer\n",
    "'''\n",
    "說明\n",
    "re.finditer 會將所有配對到的字串\n",
    "以迭代的方式呈現，若沒有配對到，則回傳 None\n",
    "'''\n",
    "regex03 = r'[0-9]+'\n",
    "string03 = \"0911111111, 0922222222, 0933333333\"\n",
    "iterableMatch03 = re.finditer(regex03,string03) #和for loop 概念一樣，每個配對到的結果皆為一個獨立的re.search\n",
    "if iterableMatch03!=None:\n",
    "    for match in iterableMatch03:\n",
    "        print(match[0])"
   ]
  },
  {
   "cell_type": "code",
   "execution_count": 12,
   "id": "0a676ea0-8643-4626-920e-8b1bfc1d4a34",
   "metadata": {},
   "outputs": [
    {
     "name": "stdout",
     "output_type": "stream",
     "text": [
      "<re.Match object; span=(0, 10), match='2022/06/30'>\n",
      "2022/06/30\n",
      "30\n"
     ]
    }
   ],
   "source": [
    "# match\n",
    "'''\n",
    "說明\n",
    "re.match 與 re.search 的差別，\n",
    "在於 match 會從字串的「開頭」開始比對，\n",
    "比對不到，便回傳 None\n",
    "'''\n",
    "regex04 = r'2[0-9]{3}\\/[0-1]?[0-9]{1}\\/([0-3]?[0-9])'\n",
    "string04 = \"2022/06/30\"\n",
    "match04 = re.match(regex04,string04)\n",
    "print(match04)\n",
    "print(match04[0])\n",
    "print(match04[1])\n"
   ]
  },
  {
   "cell_type": "code",
   "execution_count": 14,
   "id": "4695e978-391a-4de3-82d2-ff17ea736867",
   "metadata": {},
   "outputs": [
    {
     "name": "stdout",
     "output_type": "stream",
     "text": [
      "['One', 'Two', 'Three', 'Four', '']\n"
     ]
    }
   ],
   "source": [
    "# split\n",
    "'''\n",
    "說明\n",
    "re.split 類似 string.split('separator')，\n",
    "只是用正規表達式來作為 separator，\n",
    "並回傳 list\n",
    "'''\n",
    "regex06 = r\"\\d\"\n",
    "string06 = \"One1Two2Three3Four4\"\n",
    "listMatch06 = re.split(regex06,string06)\n",
    "print(listMatch06)"
   ]
  },
  {
   "cell_type": "code",
   "execution_count": 16,
   "id": "3a467e47-8a7e-43ac-8b70-c035858fd8ec",
   "metadata": {},
   "outputs": [
    {
     "name": "stdout",
     "output_type": "stream",
     "text": [
      "5201314\n"
     ]
    }
   ],
   "source": [
    "# sub\n",
    "'''\n",
    "說明\n",
    "re.sub(regex, replace_string, test_string)\n",
    "將 regex 所代表的文字，改成 replace_string，文字來源是 test_string\n",
    "'''\n",
    "regex07=r\"\\D\"\n",
    "string07 =  \"5-20 #1314\"\n",
    "strResult = re.sub(regex07,\"\",string07)\n",
    "print(strResult) #型態為string"
   ]
  },
  {
   "cell_type": "markdown",
   "id": "a2cf293f-6352-4d7e-909c-6336b2eb760e",
   "metadata": {},
   "source": [
    "# 環視\n",
    "| 名稱 | 語法 | 說明 |\n",
    "|:---:|:---:|:---:|\n",
    "| 正向環視 | (?=) | 這位置右邊要出現什麼 |\n",
    "| 正向環視否定 | (?!) | 這位置右邊不能出現什麼 |\n",
    "| 反向環視 | (?<=) | 這位置左邊要出現什麼 |\n",
    "| 反向環視否定 | (?<!) | 這位置左邊不能出現什麼 |"
   ]
  },
  {
   "cell_type": "code",
   "execution_count": 21,
   "id": "279578a9-7ac4-4968-abda-ce0fa05699ba",
   "metadata": {},
   "outputs": [
    {
     "name": "stdout",
     "output_type": "stream",
     "text": [
      "一天一蘋果醫生遠離我。An apple a day keeps the doctor away.\n"
     ]
    }
   ],
   "source": [
    "# 環視 (例如去除中文字旁邊的空白)\n",
    "regex08 = r'\\s(?![a-zA-Z])'\n",
    "string08 = \"一 天 一 蘋 果 醫 生 遠 離 我。An apple a day keeps the doctor away.\"\n",
    "strResult = re.sub(regex08,'', string08)\n",
    "print(strResult)\n"
   ]
  },
  {
   "cell_type": "code",
   "execution_count": 24,
   "id": "394c5b93-cd9a-4c66-aeb0-717ea01f3b9c",
   "metadata": {},
   "outputs": [
    {
     "name": "stdout",
     "output_type": "stream",
     "text": [
      ",234,567,890\n"
     ]
    }
   ],
   "source": [
    "# 環視 (加入千分位)\n",
    "regex09 =r\"(?=(\\d{3})+\\b)\"#右邊：3數字+一邊界\n",
    "string09 = '234567890'\n",
    "strResult = re.sub(regex09,',',string09)\n",
    "print(strResult)\n",
    "#不合理"
   ]
  },
  {
   "cell_type": "code",
   "execution_count": 25,
   "id": "23e06dfe-d3cc-4851-a81f-dfa97e672be9",
   "metadata": {},
   "outputs": [
    {
     "name": "stdout",
     "output_type": "stream",
     "text": [
      "234,567,890\n"
     ]
    }
   ],
   "source": [
    "# 環視 (加入千分位)\n",
    "regex09 =r\"(?<=\\d)(?=(\\d{3})+\\b)\"#右邊：3,6,9,12,...數字+一邊界:左邊至少一個數字\n",
    "string09 = '234567890'\n",
    "strResult = re.sub(regex09,',',string09)\n",
    "print(strResult)\n"
   ]
  },
  {
   "cell_type": "markdown",
   "id": "5ffcbfdf-449a-4510-acad-79d710eefb9d",
   "metadata": {},
   "source": [
    "---\n",
    "# 具名群組"
   ]
  },
  {
   "cell_type": "code",
   "execution_count": null,
   "id": "de273e4b-7f13-44e8-ba14-ab91f28f2955",
   "metadata": {},
   "outputs": [],
   "source": [
    "'''\n",
    "補充:\n",
    "除了 .group(n) 以外，\n",
    "還可以用 key 來代替 n。\n",
    "'''\n",
    "\n",
    "# 身分證字號\n",
    "regex10 = r'[A-Z](?P<gender>[12])\\d{8}'#將群組命名，用成key value/變數的概念\n",
    "string10 = \"A100000001\"\n",
    "match08 = re.match(regex10, string10)\n",
    "\n",
    "# 完整配對的文字\n",
    "print(match10[0])\n",
    "print(match10.group(0))\n",
    "print(match10.group())\n",
    "\n",
    "# 具名(類似key)所代表的值，也可以用索引代號來取得\n",
    "print(match10.group('gender'))\n",
    "print(match10['gender'])\n",
    "print(match10[1])"
   ]
  }
 ],
 "metadata": {
  "kernelspec": {
   "display_name": "Python3@ws",
   "language": "python",
   "name": "ws"
  },
  "language_info": {
   "codemirror_mode": {
    "name": "ipython",
    "version": 3
   },
   "file_extension": ".py",
   "mimetype": "text/x-python",
   "name": "python",
   "nbconvert_exporter": "python",
   "pygments_lexer": "ipython3",
   "version": "3.10.13"
  }
 },
 "nbformat": 4,
 "nbformat_minor": 5
}
