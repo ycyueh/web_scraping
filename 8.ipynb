{
 "cells": [
  {
   "cell_type": "markdown",
   "id": "f68a080f-e245-45be-bf2d-9a8925d76f25",
   "metadata": {},
   "source": [
    "# 以 PTT Gossiiping (八卦版) 為例"
   ]
  },
  {
   "cell_type": "code",
   "execution_count": 4,
   "id": "a2d0d8c2-6f22-4218-8aee-2f6c141f8cc1",
   "metadata": {},
   "outputs": [
    {
     "name": "stdout",
     "output_type": "stream",
     "text": [
      "[新聞] 蔡壁如對民眾黨有情有義！洪孟楷曝去年\n",
      "https://www.ptt.cc/bbs/Gossiping/M.1708074762.A.53E.html\n",
      "Re: [新聞] 富國島丟包風波！年代旅遊遭查欠債千萬\n",
      "https://www.ptt.cc/bbs/Gossiping/M.1708074770.A.B0D.html\n",
      "[新聞] 確定了！立法院朝野協商開會通知單曝光 \n",
      "https://www.ptt.cc/bbs/Gossiping/M.1708074780.A.FF4.html\n",
      "[問卦] 日本超商印度人怎麼移居日本的？\n",
      "https://www.ptt.cc/bbs/Gossiping/M.1708074809.A.5FE.html\n",
      "Re: [新聞] 印度移工來了！台印雙方MOU今天簽署　引\n",
      "https://www.ptt.cc/bbs/Gossiping/M.1708074879.A.904.html\n",
      "[問卦] 韓國於中美州多一個國家建交，各位鄉民您\n",
      "https://www.ptt.cc/bbs/Gossiping/M.1708074895.A.B91.html\n",
      "[新聞] 國軍用兵理念 增「殲敵於城鎮陣地」\n",
      "https://www.ptt.cc/bbs/Gossiping/M.1708074902.A.45D.html\n",
      "[問卦] 該如何震攝印度移工？\n",
      "https://www.ptt.cc/bbs/Gossiping/M.1708074905.A.D9E.html\n",
      "[問卦] 印度料理最能打的是哪道??\n",
      "https://www.ptt.cc/bbs/Gossiping/M.1708074938.A.C23.html\n",
      "[問卦] 龍妹穿瑜伽褲 瑜珈內衣上街 會很性感嗎？\n",
      "https://www.ptt.cc/bbs/Gossiping/M.1708074991.A.926.html\n",
      "[公告] 八卦板板規(2023.11.11)\n",
      "https://www.ptt.cc/bbs/Gossiping/M.1699632792.A.2CB.html\n",
      "[公告]～（＠ｏ＠）～二月置底閒聊區～（＠ｏ＠\n",
      "https://www.ptt.cc/bbs/Gossiping/M.1706766460.A.35C.html\n",
      "[協尋] 2/6 下午2點行忠行善交叉路口行車紀錄\n",
      "https://www.ptt.cc/bbs/Gossiping/M.1707323028.A.174.html\n",
      "[公告] \\(￣︶￣)八卦板主徵選報名開始(￣︶￣)/\n",
      "https://www.ptt.cc/bbs/Gossiping/M.1707905668.A.91B.html\n"
     ]
    }
   ],
   "source": [
    "import requests as req\n",
    "from bs4 import BeautifulSoup as bs\n",
    "\n",
    " # PTT Gossiiping (八卦版) \n",
    "url = \"https://www.ptt.cc/bbs/Gossiping/index.html\"\n",
    "\n",
    "# 首頁網址\n",
    "#a['href']:美麗湯只能取得屬性真正的內文\n",
    "prefix = 'https://www.ptt.cc'\n",
    "\n",
    "# 設定 cookie\n",
    "my_cookies = {\n",
    "    'over18':\"1\"\n",
    "}\n",
    "# 用 requests 的 get 方法把網頁抓下來\n",
    "res = req.get(url,cookies = my_cookies)\n",
    "# 指定 lxml 作為解析器\n",
    "soup = bs(res.text,'lxml')\n",
    "# 顯示連結列表\n",
    "for a in soup.select('div.r-ent > div.title > a'):\n",
    "    print(a.get_text())\n",
    "    print(prefix+a['href'])"
   ]
  },
  {
   "cell_type": "code",
   "execution_count": null,
   "id": "c2c9754d-45f4-4506-a4d8-dde99fe1d811",
   "metadata": {},
   "outputs": [],
   "source": []
  }
 ],
 "metadata": {
  "kernelspec": {
   "display_name": "Python3@ws",
   "language": "python",
   "name": "ws"
  },
  "language_info": {
   "codemirror_mode": {
    "name": "ipython",
    "version": 3
   },
   "file_extension": ".py",
   "mimetype": "text/x-python",
   "name": "python",
   "nbconvert_exporter": "python",
   "pygments_lexer": "ipython3",
   "version": "3.10.13"
  }
 },
 "nbformat": 4,
 "nbformat_minor": 5
}
